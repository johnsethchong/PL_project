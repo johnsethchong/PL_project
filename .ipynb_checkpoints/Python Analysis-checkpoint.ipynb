{
 "cells": [
  {
   "cell_type": "code",
   "execution_count": 2,
   "metadata": {},
   "outputs": [],
   "source": [
    "#Import Dependencies\n",
    "import pandas as pd\n",
    "import matplotlib.pyplot as plt"
   ]
  },
  {
   "cell_type": "code",
   "execution_count": 51,
   "metadata": {},
   "outputs": [
    {
     "data": {
      "text/plain": [
       "Docattach                                      3303\n",
       "Paycase                                        1557\n",
       "EFT TIA                                         719\n",
       "Reissue                                         642\n",
       "Apply Check                                     351\n",
       "Refund                                          102\n",
       "SIT set up                                      100\n",
       "Pre Internal                                     70\n",
       "TIAEXPIRED                                       23\n",
       "Not Taken                                        15\n",
       "NSF                                               3\n",
       "DelReq                                            3\n",
       "ePayment                                          1\n",
       "Wire                                              1\n",
       "Unsigned monthly illustration rcvd                1\n",
       "Pre-Internal                                      1\n",
       "Portfolio Rebalancing                             1\n",
       "Freelook                                          1\n",
       "Per NBCOR(421578973), Policy made Not Taken       1\n",
       "Name: Processing Done, dtype: int64"
      ]
     },
     "execution_count": 51,
     "metadata": {},
     "output_type": "execute_result"
    }
   ],
   "source": [
    "#Import CSV\n",
    "AWDdoc = pd.read_csv(\"Data/awd-docattach.csv\")\n",
    "AWDdocdate = AWDdoc[\"Date\"].str.split(\",\", expand = True)\n",
    "\n",
    "AWDdoc_day_of_week = AWDdocdate[0]\n",
    "AWDdoc_month_and_day= AWDdocdate[1]\n",
    "AWDdoc_month = AWDdoc_month_and_day.str.split(\" \", expand=True)[1]\n",
    "AWDdoc_day = AWDdoc_month_and_day.str.split(\" \", expand=True)[2]\n",
    "AWDdoc_year = AWDdocdate[2]\n",
    "# AWDdoc.drop(columns = [\"Date\", \"Month and Day\"], inplace = True)\n",
    "# AWDdoc\n",
    "AWD_doc_df = pd.DataFrame({\"Month\": AWDdoc_month,\n",
    "                          \"Day\": AWDdoc_day,\n",
    "                           \"Year\": AWDdoc_year,\n",
    "                          \"Day of Week\": AWDdoc_day_of_week,\n",
    "                           \"Policy Number\": AWDdoc[\"Policy #\"],\n",
    "                           \"Processing Done\": AWDdoc[\"Processing Done\"]\n",
    "                          })\n",
    "AWD_doc_df.set_index(\"Month\")\n",
    "\n",
    "AWD_doc_df[\"Processing Done\"].value_counts()"
   ]
  },
  {
   "cell_type": "code",
   "execution_count": null,
   "metadata": {},
   "outputs": [],
   "source": []
  }
 ],
 "metadata": {
  "kernelspec": {
   "display_name": "Python [conda env:PythonData] *",
   "language": "python",
   "name": "conda-env-PythonData-py"
  },
  "language_info": {
   "codemirror_mode": {
    "name": "ipython",
    "version": 3
   },
   "file_extension": ".py",
   "mimetype": "text/x-python",
   "name": "python",
   "nbconvert_exporter": "python",
   "pygments_lexer": "ipython3",
   "version": "3.7.4"
  }
 },
 "nbformat": 4,
 "nbformat_minor": 2
}
